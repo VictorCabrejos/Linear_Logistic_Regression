{
 "cells": [
  {
   "cell_type": "markdown",
   "metadata": {},
   "source": [
    "## Question 3 - Practice using Numpy"
   ]
  },
  {
   "cell_type": "code",
   "execution_count": 31,
   "metadata": {},
   "outputs": [],
   "source": [
    "# Practice using numpy \n",
    "#  \n",
    "# ###  Array operations in numpy\n",
    "# #### 1. Import numpy package\n",
    "import numpy as np"
   ]
  },
  {
   "cell_type": "code",
   "execution_count": 32,
   "metadata": {},
   "outputs": [
    {
     "name": "stdout",
     "output_type": "stream",
     "text": [
      "<class 'numpy.ndarray'>\n",
      "(3,)\n",
      "4\n"
     ]
    }
   ],
   "source": [
    "# #### 2. Create a one-dimensional array a and initialize as [4,5,6]. \n",
    "a = np.array([4,5,6])\n",
    "\n",
    "# #### (1) Print the type of a\n",
    "print(type(a))\n",
    "\n",
    "# #### (2) Print the shape of a\n",
    "print(a.shape)\n",
    "\n",
    "# #### (3) Print the first element in a (the value should be 4)\n",
    "print(a[0])\n"
   ]
  },
  {
   "cell_type": "code",
   "execution_count": 33,
   "metadata": {},
   "outputs": [
    {
     "name": "stdout",
     "output_type": "stream",
     "text": [
      "(2, 3)\n",
      "4 5 2\n"
     ]
    }
   ],
   "source": [
    "# #### 3. Create a two-dimensional array b and initialize as [ [4,5,6], [1,2,3] ]. \n",
    "\n",
    "b = np.array([ [4,5,6], \n",
    "              [1,2,3] ] )\n",
    "\n",
    "# #### (1) Print the shape of b\n",
    "print(b.shape)\n",
    "\n",
    "# #### (2) Print b(0,0), b(0,1), b(1,1) (the values should be 4,5,2)\n",
    "print(b[0,0], b[0,1], b[1,1])\n"
   ]
  },
  {
   "cell_type": "code",
   "execution_count": 34,
   "metadata": {},
   "outputs": [
    {
     "name": "stdout",
     "output_type": "stream",
     "text": [
      "[[0. 0. 0.]\n",
      " [0. 0. 0.]\n",
      " [0. 0. 0.]]\n",
      "[[1. 1. 1. 1. 1.]\n",
      " [1. 1. 1. 1. 1.]\n",
      " [1. 1. 1. 1. 1.]\n",
      " [1. 1. 1. 1. 1.]]\n",
      "[[1. 0. 0. 0.]\n",
      " [0. 1. 0. 0.]\n",
      " [0. 0. 1. 0.]\n",
      " [0. 0. 0. 1.]]\n",
      "[[0.65332855 0.50133218]\n",
      " [0.41946826 0.27123515]\n",
      " [0.39060388 0.17883334]]\n"
     ]
    }
   ],
   "source": [
    "# #### 4. \n",
    "# #### (1) Create a matrix a, which is all 0, of size 3x3\n",
    "a = np.zeros([3, 3])\n",
    "print(a)\n",
    "\n",
    "# #### (2) Create a matrix b, which is all 1, of size 4x5\n",
    "b = np.ones([4, 5])\n",
    "print(b)\n",
    "\n",
    "# #### (3) Create a unit matrix c, of size 4x4\n",
    "c = np.identity(4)\n",
    "print(c)\n",
    "\n",
    "# #### (4) Create a random matrix d, of size 3x2\n",
    "d = np.random.rand(3,2)\n",
    "print(d)\n"
   ]
  },
  {
   "cell_type": "code",
   "execution_count": 35,
   "metadata": {},
   "outputs": [
    {
     "name": "stdout",
     "output_type": "stream",
     "text": [
      "[[ 1  2  3  4]\n",
      " [ 5  6  7  8]\n",
      " [ 9 10 11 12]]\n",
      "[[3 4]\n",
      " [7 8]]\n",
      "3\n"
     ]
    }
   ],
   "source": [
    "# #### 5. Create an array a and initialize as [[1, 2, 3, 4], [5, 6, 7, 8], [9, 10, 11, 12]].\n",
    "\n",
    "a = np.array([[1, 2, 3, 4], [5, 6, 7, 8], [9, 10, 11, 12]])\n",
    "\n",
    "\n",
    "# #### (1) Print a\n",
    "print(a)\n",
    "\n",
    "# #### (2) Put the 0th and 1st rows, indices: 2 to 3 columns of  array a into  array b,then print b.\n",
    "\n",
    "# a[ start: n+1]\n",
    "\n",
    "b = a[ 0:2 , 2:4 ]\n",
    "\n",
    "print(b)\n",
    "\n",
    "# #### (3) Print b(0,0)\n",
    "print(b[0,0])\n"
   ]
  },
  {
   "cell_type": "code",
   "execution_count": 36,
   "metadata": {},
   "outputs": [
    {
     "name": "stdout",
     "output_type": "stream",
     "text": [
      "[[ 5  6  7  8]\n",
      " [ 9 10 11 12]]\n",
      "8\n"
     ]
    }
   ],
   "source": [
    "# #### 6. Put all the elements of the last two rows of array a (question 5) into an new array c\n",
    "\n",
    "c = a[ 1: , : ]\n",
    "\n",
    "# #### (1) Print c\n",
    "print(c)\n",
    "\n",
    "# #### (2) Print the last element of the first row in c (hint: Use -1 for the last element)\n",
    "\n",
    "print(c[0,-1])\n"
   ]
  },
  {
   "cell_type": "code",
   "execution_count": 37,
   "metadata": {},
   "outputs": [
    {
     "name": "stdout",
     "output_type": "stream",
     "text": [
      "[[1. 2.]\n",
      " [3. 4.]]\n",
      "[[5. 6.]\n",
      " [7. 8.]]\n",
      "[[ 6.  8.]\n",
      " [10. 12.]]\n",
      "[[ 6.  8.]\n",
      " [10. 12.]]\n",
      "[[-4. -4.]\n",
      " [-4. -4.]]\n",
      "[[-4. -4.]\n",
      " [-4. -4.]]\n",
      "[[ 5. 12.]\n",
      " [21. 32.]]\n",
      "[[19. 22.]\n",
      " [43. 50.]]\n",
      "Division: \n",
      " [[0.2        0.33333333]\n",
      " [0.42857143 0.5       ]]\n",
      "Division: \n",
      " [[0.2        0.33333333]\n",
      " [0.42857143 0.5       ]]\n",
      "[[1.         1.41421356]\n",
      " [1.73205081 2.        ]]\n",
      "[[19. 22.]\n",
      " [43. 50.]]\n",
      "[[19. 22.]\n",
      " [43. 50.]]\n"
     ]
    }
   ],
   "source": [
    "# ###  Array arithmetical operation in numpy\n",
    "# #### 7. \n",
    "# #### (1) Create  an array x and initialize as [[1, 2], [3, 4]], dtype=np.float64.\n",
    "\n",
    "x = np.array([[1, 2], [3, 4]], dtype=np.float64)\n",
    "print(x)\n",
    "\n",
    "# #### (2) Create  an array y and initialize as [[5, 6], [7, 8]], dtype=np.float64.\n",
    "\n",
    "y = np.array([[5, 6], [7, 8]], dtype=np.float64)\n",
    "print(y)\n",
    "\n",
    "# #### (3) Print x + y and np.add(x, y)\n",
    "print(x+y)\n",
    "print(np.add(x,y))\n",
    "\n",
    "# #### (4) Print x - y and np.subtract(x, y）\n",
    "print(x-y)\n",
    "print(np.subtract(x,y))\n",
    "\n",
    "# #### (5) Print x * y, np.multiply(x, y）and np.dot(x,y), and compare the results\n",
    "print(x*y)\n",
    "print(np.dot(x,y))\n",
    "\n",
    "# #### (6) Print x / y and np.divide(x,y)\n",
    "print(\"Division: \\n\", x/y)\n",
    "print(\"Division: \\n\",np.divide(x,y))\n",
    "\n",
    "# #### (7) Print  the square of x (hint: np.sqrt())\n",
    "print(np.sqrt(x))\n",
    "\n",
    "# #### (8) Print x.dot(y) and np.dot(x,y)\n",
    "print(x.dot(y))\n",
    "print(np.dot(x,y))\n"
   ]
  },
  {
   "cell_type": "code",
   "execution_count": 38,
   "metadata": {},
   "outputs": [
    {
     "name": "stdout",
     "output_type": "stream",
     "text": [
      "10.0\n",
      "[4. 6.]\n",
      "[3. 7.]\n"
     ]
    }
   ],
   "source": [
    "# #### 8. sum (use the array x in question 7)\n",
    "# #### (1) print the sum of x \n",
    "print(x.sum())\n",
    "\n",
    "# #### (2) print the sum of the rows of x  (hint: axis = 0)\n",
    "print(x.sum(axis=0))\n",
    "\n",
    "# #### (3) print the sum of the columns of x  (hint: axis = 1)\n",
    "print(x.sum(axis=1))\n"
   ]
  },
  {
   "cell_type": "code",
   "execution_count": 39,
   "metadata": {},
   "outputs": [
    {
     "name": "stdout",
     "output_type": "stream",
     "text": [
      "2.5\n",
      "[2. 3.]\n",
      "[1.5 3.5]\n"
     ]
    }
   ],
   "source": [
    "# #### 9. mean (use the array x in question 7)\n",
    "# #### (1) print the mean of x \n",
    "print(x.mean())\n",
    "\n",
    "# #### (2) print the mean of the rows of x  (hint: axis = 0)\n",
    "print(x.mean(axis=0))\n",
    "\n",
    "# #### (3) print the mean of the columns of x  (hint: axis = 1)\n",
    "print(x.mean(axis=1))\n"
   ]
  },
  {
   "cell_type": "code",
   "execution_count": 40,
   "metadata": {},
   "outputs": [
    {
     "name": "stdout",
     "output_type": "stream",
     "text": [
      "[[1. 2.]\n",
      " [3. 4.]]\n",
      "[[1. 3.]\n",
      " [2. 4.]]\n"
     ]
    }
   ],
   "source": [
    "# #### 10. Using the array x in question 7 to get the matrix transpose of x\n",
    "print(x)\n",
    "print(x.transpose())"
   ]
  },
  {
   "cell_type": "code",
   "execution_count": 41,
   "metadata": {},
   "outputs": [
    {
     "name": "stdout",
     "output_type": "stream",
     "text": [
      "x : \n",
      " [[1. 2.]\n",
      " [3. 4.]]\n",
      "transposed of x : \n",
      " [[1. 3.]\n",
      " [2. 4.]]\n",
      "dot product : \n",
      " [[19. 22.]\n",
      " [43. 50.]]\n"
     ]
    }
   ],
   "source": [
    "print(\"x : \\n\", x)\n",
    "print(\"transposed of x : \\n\", x.transpose())\n",
    "print(\"dot product : \\n\",np.dot(x,y))\n"
   ]
  },
  {
   "cell_type": "code",
   "execution_count": 42,
   "metadata": {},
   "outputs": [
    {
     "name": "stdout",
     "output_type": "stream",
     "text": [
      "3\n",
      "[1 1]\n",
      "[1 1]\n"
     ]
    }
   ],
   "source": [
    "# #### 11. Get the index of the max elements in x in question 7 \n",
    "# #### (1) print the index of the max element of x\n",
    "print(np.argmax(x))\n",
    "\n",
    "# #### (2) print the index of the max elementof in the rows of x  (hint: axis = 0)\n",
    "\n",
    "print(np.argmax(x, axis=0))\n",
    "\n",
    "\n",
    "# #### (3) print the index of the max elementof in the columns of x  (hint: axis = 1)\n",
    "\n",
    "print(np.argmax(x, axis=1))\n"
   ]
  },
  {
   "cell_type": "code",
   "execution_count": 43,
   "metadata": {},
   "outputs": [
    {
     "data": {
      "image/png": "[encoded data removed]",
      "text/plain": [
       "<Figure size 432x288 with 1 Axes>"
      ]
     },
     "metadata": {
      "needs_background": "light"
     },
     "output_type": "display_data"
    }
   ],
   "source": [
    "# #### 12. Plot \n",
    "# ####  axis X:  x = np.arange(0, 100, 0.1)    axis Y: y=x*x ）hint: use matplotlib.pyplot package）\n",
    "\n",
    "import matplotlib.pyplot as plt\n",
    "\n",
    "x = np.arange(0, 100, 0.1)\n",
    "y = x*x\n",
    "plt.plot( x, y)\n",
    "plt.show()"
   ]
  },
  {
   "cell_type": "code",
   "execution_count": 44,
   "metadata": {},
   "outputs": [
    {
     "data": {
      "image/png": "[encoded data removed]",
      "text/plain": [
       "<Figure size 432x288 with 1 Axes>"
      ]
     },
     "metadata": {
      "needs_background": "light"
     },
     "output_type": "display_data"
    }
   ],
   "source": [
    "# #### 13. Plot sin() and cos()   (hint: use np.sin(), np.cos() and matplotlib.pyplot package）\n",
    "# #### (1) axis X: x = np.arange(0, 3 * np.pi, 0.1)   axis Y: y=sin(x)\n",
    "x = np.arange(0, 3 * np.pi, 0.1)\n",
    "y = np.sin(x)\n",
    "plt.plot( x, y)\n",
    "plt.show()"
   ]
  },
  {
   "cell_type": "code",
   "execution_count": 45,
   "metadata": {},
   "outputs": [
    {
     "data": {
      "image/png": "[encoded data removed]",
      "text/plain": [
       "<Figure size 432x288 with 1 Axes>"
      ]
     },
     "metadata": {
      "needs_background": "light"
     },
     "output_type": "display_data"
    }
   ],
   "source": [
    "# #### (2) axis X: x = np.arange(0, 3 * np.pi, 0.1)   axis Y: y=cos(x)\n",
    "x = np.arange(0, 3 * np.pi, 0.1)\n",
    "y = np.cos(x)\n",
    "plt.plot( x, y)\n",
    "plt.show()"
   ]
  },
  {
   "cell_type": "markdown",
   "metadata": {},
   "source": [
    "## Question 4 - Linear Regression"
   ]
  },
  {
   "cell_type": "code",
   "execution_count": 46,
   "metadata": {},
   "outputs": [],
   "source": [
    "# ### Employ linear regression and complete the python code\n",
    "import numpy as np\n",
    "import pandas as pd\n",
    "import matplotlib.pyplot as plt\n",
    "from sklearn.model_selection import train_test_split\n"
   ]
  },
  {
   "cell_type": "code",
   "execution_count": 64,
   "metadata": {},
   "outputs": [
    {
     "data": {
      "text/html": [
       "<div>\n",
       "<style scoped>\n",
       "    .dataframe tbody tr th:only-of-type {\n",
       "        vertical-align: middle;\n",
       "    }\n",
       "\n",
       "    .dataframe tbody tr th {\n",
       "        vertical-align: top;\n",
       "    }\n",
       "\n",
       "    .dataframe thead th {\n",
       "        text-align: right;\n",
       "    }\n",
       "</style>\n",
       "<table border=\"1\" class=\"dataframe\">\n",
       "  <thead>\n",
       "    <tr style=\"text-align: right;\">\n",
       "      <th></th>\n",
       "      <th>YearsExperience</th>\n",
       "      <th>Salary</th>\n",
       "    </tr>\n",
       "  </thead>\n",
       "  <tbody>\n",
       "    <tr>\n",
       "      <th>0</th>\n",
       "      <td>1.1</td>\n",
       "      <td>39343</td>\n",
       "    </tr>\n",
       "    <tr>\n",
       "      <th>1</th>\n",
       "      <td>1.3</td>\n",
       "      <td>46205</td>\n",
       "    </tr>\n",
       "    <tr>\n",
       "      <th>2</th>\n",
       "      <td>1.5</td>\n",
       "      <td>37731</td>\n",
       "    </tr>\n",
       "    <tr>\n",
       "      <th>3</th>\n",
       "      <td>2.0</td>\n",
       "      <td>43525</td>\n",
       "    </tr>\n",
       "    <tr>\n",
       "      <th>4</th>\n",
       "      <td>2.2</td>\n",
       "      <td>39891</td>\n",
       "    </tr>\n",
       "  </tbody>\n",
       "</table>\n",
       "</div>"
      ],
      "text/plain": [
       "   YearsExperience  Salary\n",
       "0              1.1   39343\n",
       "1              1.3   46205\n",
       "2              1.5   37731\n",
       "3              2.0   43525\n",
       "4              2.2   39891"
      ]
     },
     "execution_count": 64,
     "metadata": {},
     "output_type": "execute_result"
    }
   ],
   "source": [
    "# #### Load data\n",
    "# #### (1) read data from 'Question4.csv'\n",
    "# #### (2) save the column 'YearsExperience' as X and  'Salary' as Y\n",
    "#==========\n",
    "#todo '''complete the load data function'''\n",
    "#==========\n",
    "\n",
    "df = pd.read_csv('Question4.csv')\n",
    "df.head()\n"
   ]
  },
  {
   "cell_type": "code",
   "execution_count": 48,
   "metadata": {},
   "outputs": [],
   "source": [
    "X = df['YearsExperience']\n",
    "Y = df['Salary']"
   ]
  },
  {
   "cell_type": "code",
   "execution_count": 49,
   "metadata": {},
   "outputs": [],
   "source": [
    "# #### Split data use train_test_split,  0.7 training data and 0.3 testing data\n",
    "#==========\n",
    "#todo '''complete the split data function'''\n",
    "\n",
    "X_train,X_test,Y_train,Y_test = train_test_split(X, Y, test_size=0.30)\n",
    "\n",
    "#==========\n"
   ]
  },
  {
   "cell_type": "code",
   "execution_count": 50,
   "metadata": {},
   "outputs": [
    {
     "name": "stdout",
     "output_type": "stream",
     "text": [
      "(30,) (21,) (9,)\n"
     ]
    }
   ],
   "source": [
    "print(X.shape, X_train.shape, X_test.shape)"
   ]
  },
  {
   "cell_type": "markdown",
   "metadata": {},
   "source": [
    "### Linear Regression Model"
   ]
  },
  {
   "cell_type": "markdown",
   "metadata": {},
   "source": [
    "![Linear Model](linearModel.png)"
   ]
  },
  {
   "cell_type": "code",
   "execution_count": 51,
   "metadata": {},
   "outputs": [],
   "source": [
    "# ### Algorithm\n",
    "# #### (1) implement the model (a linear function)  Hint: Equarion 2.15 in textbook\n",
    "# w1 = W (really: \"the slope\")\n",
    "# w0 = b (really: \"y-intercept\")\n",
    "\n",
    "def model(W, b, x):\n",
    "    #==========\n",
    "    #todo '''complete the model function'''\n",
    "    return W*x + b\n",
    "    #=========="
   ]
  },
  {
   "cell_type": "markdown",
   "metadata": {},
   "source": [
    "### Mean Squared Error"
   ]
  },
  {
   "cell_type": "markdown",
   "metadata": {},
   "source": [
    "![Mean Squared Error](MSE.png)"
   ]
  },
  {
   "cell_type": "code",
   "execution_count": 52,
   "metadata": {},
   "outputs": [],
   "source": [
    "# #### (2) implement a loss function (Mean Square Error, MSE)  Hint: Equation 2.16 in textbook\n",
    "   \n",
    "def loss_function(W, b, x, y):\n",
    "    #==========\n",
    "    #todo '''complete the loss function'''\n",
    "    return ((y.transpose() - (W*x.transpose() + b))**2 ).mean()\n",
    "    #==========\n",
    "    "
   ]
  },
  {
   "cell_type": "markdown",
   "metadata": {},
   "source": [
    "### Optimization - Partial Derivatives"
   ]
  },
  {
   "cell_type": "markdown",
   "metadata": {},
   "source": [
    "![Partial Derivatives](partialDerivatives.png)"
   ]
  },
  {
   "cell_type": "code",
   "execution_count": 53,
   "metadata": {},
   "outputs": [],
   "source": [
    "# #### (3) apply an optimization method (update the weights during training process) Hint: Equation 2.17 in textbook\n",
    "    \n",
    "def optimize(W,b,x,y):\n",
    "    #==========\n",
    "    #todo '''complete the optimize function'''\n",
    "    \n",
    "    denominator = x.dot(x) - x.mean() * x.sum()\n",
    "    w1 = ( x.dot(y) - y.mean()*x.sum() ) / denominator\n",
    "    b = ( y.mean()*x.dot(x) - x.mean()*x.dot(y)) / denominator\n",
    "    \n",
    "    return w1, b\n",
    "    #=========="
   ]
  },
  {
   "cell_type": "code",
   "execution_count": 54,
   "metadata": {},
   "outputs": [
    {
     "name": "stdout",
     "output_type": "stream",
     "text": [
      "new_loss:  6437764503.238095 loss:  0\n",
      "new_loss:  29749146.65836966 loss:  6437764503.238095\n",
      "new_loss:  29749146.65836966 loss:  29749146.65836966\n",
      "3\n"
     ]
    },
    {
     "data": {
      "image/png": "[encoded data removed]",
      "text/plain": [
       "<Figure size 432x288 with 1 Axes>"
      ]
     },
     "metadata": {
      "needs_background": "light"
     },
     "output_type": "display_data"
    }
   ],
   "source": [
    "# ### Define train function\n",
    "# #### (1) opitmize the weights W and b several times until converge\n",
    "# #### (2) return W,b\n",
    "\n",
    "def train(W,b,x,y,iterations):\n",
    "    eps = 1e-2 \n",
    "    count = 0\n",
    "    W = 0\n",
    "    b = 0\n",
    "    newloss = 0\n",
    "    loss = 0\n",
    "    for i in range(iterations):\n",
    "        count += 1\n",
    "        #==========\n",
    "        # todo '''complete the code to get the final W and b, \n",
    "        # and get new loss from loss function'''\n",
    "        \n",
    "        newloss = loss_function(W, b, x, y)\n",
    "        W,b = optimize(W,b,x,y)\n",
    "        print(\"new_loss: \", newloss, \"loss: \", loss)\n",
    "        \n",
    "        #==========\n",
    "        if abs(newloss - loss) < eps:\n",
    "            break\n",
    "        else:\n",
    "            loss = newloss\n",
    "    print(count)\n",
    "    return W,b\n",
    "\n",
    "W,b = train(0,0,X_train,Y_train,10000)\n",
    "\n",
    "#==========\n",
    "# todo '''complete the code to get Y_test_pred from model and X_test'''\n",
    "\n",
    "Y_test_pred = model(W, b, X_test)\n",
    "\n",
    "#==========\n",
    "plt.scatter(X_test,Y_test)\n",
    "plt.plot(X_test, Y_test_pred)\n",
    "plt.title('Linear Regression')\n",
    "plt.show()\n"
   ]
  },
  {
   "cell_type": "code",
   "execution_count": 55,
   "metadata": {},
   "outputs": [
    {
     "name": "stdout",
     "output_type": "stream",
     "text": [
      "24852.252756451584\n"
     ]
    }
   ],
   "source": [
    "print(b)"
   ]
  },
  {
   "cell_type": "code",
   "execution_count": 56,
   "metadata": {},
   "outputs": [
    {
     "data": {
      "text/plain": [
       "9612.148515173356"
      ]
     },
     "execution_count": 56,
     "metadata": {},
     "output_type": "execute_result"
    }
   ],
   "source": [
    "W"
   ]
  },
  {
   "cell_type": "markdown",
   "metadata": {},
   "source": [
    "## Question 5 - Logistic Regression"
   ]
  },
  {
   "cell_type": "code",
   "execution_count": 120,
   "metadata": {},
   "outputs": [],
   "source": [
    "import numpy as np\n",
    "from numpy import *\n",
    "from matplotlib import pyplot as plt"
   ]
  },
  {
   "cell_type": "code",
   "execution_count": 121,
   "metadata": {},
   "outputs": [],
   "source": [
    "X = []  \n",
    "Y = []   \n",
    "\n",
    "def loadDataSet():\n",
    "    f=open('Question5.txt')\n",
    "    # Read data line by line and use strip to remove the Spaces \n",
    "    for line in f.readlines():\n",
    "        nline = line.strip().split()\n",
    "        \n",
    "        # X has two columns\n",
    "        X.append([float(nline[0]), float(nline[1])])\n",
    "        Y.append(int(nline[2]))\n",
    "        \n",
    "    return mat(X).T, mat(Y)\n",
    "\n",
    "X,Y=loadDataSet()"
   ]
  },
  {
   "cell_type": "markdown",
   "metadata": {},
   "source": [
    "![sigmoid](sigmoid2.png)"
   ]
  },
  {
   "cell_type": "code",
   "execution_count": 122,
   "metadata": {},
   "outputs": [],
   "source": [
    "def sigmoid(z):\n",
    "    sig = 1/(1+np.exp(-1*z))\n",
    "    return sig"
   ]
  },
  {
   "cell_type": "markdown",
   "metadata": {},
   "source": [
    "![loss](cost.png)"
   ]
  },
  {
   "cell_type": "code",
   "execution_count": 123,
   "metadata": {},
   "outputs": [],
   "source": [
    "def initialize_with_zeros(dim):\n",
    "    # Enter the dimension of X\n",
    "    # initialize w and b with zeros\n",
    "    # w as a vector of zeros / dim= X[0].shape\n",
    "    w = np.zeros(dim)\n",
    "    b=0\n",
    "    return w,b"
   ]
  },
  {
   "cell_type": "code",
   "execution_count": 124,
   "metadata": {},
   "outputs": [
    {
     "name": "stdout",
     "output_type": "stream",
     "text": [
      "w = [0. 0.]\n",
      "b = 0\n"
     ]
    }
   ],
   "source": [
    "dim = 2\n",
    "w, b = initialize_with_zeros(dim)\n",
    "print (\"w = \" + str(w))\n",
    "print (\"b = \" + str(b))"
   ]
  },
  {
   "cell_type": "markdown",
   "metadata": {},
   "source": [
    "![sigform](sigmoid3.png)"
   ]
  },
  {
   "cell_type": "markdown",
   "metadata": {},
   "source": [
    "![sigform2](sigmoid4.png)"
   ]
  },
  {
   "cell_type": "markdown",
   "metadata": {},
   "source": [
    "![loss](cost.png)"
   ]
  },
  {
   "cell_type": "markdown",
   "metadata": {},
   "source": [
    "![backprop](backprop.png)"
   ]
  },
  {
   "cell_type": "code",
   "execution_count": 125,
   "metadata": {},
   "outputs": [],
   "source": [
    "def propagate(w, b, X, Y):\n",
    "    \n",
    "    # number of samples = 100\n",
    "    m = X.shape[1]\n",
    "    \n",
    "    # FORWARD PROPAGATION: Calculate Loss (cost)\n",
    "    # compute SIGMOID (activation)\n",
    "    \n",
    "    A = sigmoid(np.dot(w.T, X) + b)\n",
    "    \n",
    "    # compute cost function\n",
    "    cost = - (1 / m) * np.sum((Y * np.log(A)) + (1 - Y)*np.log(1-A))                                 \n",
    "\n",
    "    # BACKWARD PROPAGATION (TO FIND GRADIENTS)\n",
    "    dw = 1 / m * (np.dot(X, (A - Y).T))\n",
    "    db = 1 / m * (np.sum(A - Y))\n",
    "    \n",
    "    grads = {\"dw\": dw,\n",
    "             \"db\": db}\n",
    "    \n",
    "    # returning gradient dictionary\n",
    "    # and cost\n",
    "    return grads, cost"
   ]
  },
  {
   "cell_type": "code",
   "execution_count": 135,
   "metadata": {},
   "outputs": [
    {
     "name": "stdout",
     "output_type": "stream",
     "text": [
      "w : \n",
      " [[1]\n",
      " [2]]\n",
      "b : \n",
      " 2\n",
      "X : \n",
      " [[1 2]\n",
      " [3 4]]\n",
      "Y : \n",
      " [[1 0]]\n"
     ]
    }
   ],
   "source": [
    "print( \"w : \\n\", np.array([[1],[2]]))\n",
    "print( \"b : \\n\", 2)\n",
    "print( \"X : \\n\", np.array([[1,2],[3,4]]))\n",
    "print( \"Y : \\n\", np.array([[1,0]]))"
   ]
  },
  {
   "cell_type": "code",
   "execution_count": 136,
   "metadata": {},
   "outputs": [
    {
     "name": "stdout",
     "output_type": "stream",
     "text": [
      "dw = [[0.99993216]\n",
      " [1.99980262]]\n",
      "db = 0.49993523062470574\n",
      "cost = 6.000064773192205\n"
     ]
    }
   ],
   "source": [
    "w, b, X, Y = np.array([[1],[2]]), 2, np.array([[1,2],[3,4]]), np.array([[1,0]])\n",
    "grads, cost = propagate(w, b, X, Y)\n",
    "print (\"dw = \" + str(grads[\"dw\"]))\n",
    "print (\"db = \" + str(grads[\"db\"]))\n",
    "print (\"cost = \" + str(cost))"
   ]
  },
  {
   "cell_type": "markdown",
   "metadata": {},
   "source": [
    "![update](params.png)"
   ]
  },
  {
   "cell_type": "code",
   "execution_count": 127,
   "metadata": {},
   "outputs": [],
   "source": [
    "def optimize(w, b, X, Y, num_iterations, learning_rate, print_cost = False):\n",
    "    \n",
    "    # We need to update the parameters using\n",
    "    # GRADIENT DESCENT\n",
    "    # Learn w and b by \n",
    "    # Minimizing the cost function \n",
    "    \n",
    "    # alpha = learning_rate gradient descent update rule\n",
    "    \n",
    "    costs = []\n",
    "    \n",
    "    for i in range(num_iterations):\n",
    "        \n",
    "        \n",
    "        # Cost and gradient calculation\n",
    "        # for current parameters\n",
    "\n",
    "        grads, cost = propagate(w, b, X, Y)\n",
    "        \n",
    "        # Retrieve derivatives from grads\n",
    "        dw = grads[\"dw\"]\n",
    "        db = grads[\"db\"]\n",
    "        \n",
    "        # update rule\n",
    "        w = w - learning_rate * dw\n",
    "        b = b - learning_rate * db\n",
    "        \n",
    "        # Recording the costs every 100 training iterations\n",
    "        if i % 100 == 0:\n",
    "            costs.append(cost)\n",
    "        \n",
    "        # Print the cost every 100 training examples\n",
    "        if print_cost and i % 100 == 0:\n",
    "            print (\"Cost after iteration %i: %f\" %(i, cost))\n",
    "            \n",
    "   \n",
    "    # store updated parameters and gradients in dictionaries\n",
    "    params = {\"w\": w,\n",
    "              \"b\": b}\n",
    "    \n",
    "    grads = {\"dw\": dw,\n",
    "             \"db\": db}\n",
    "    \n",
    "    # returning the updated parameters\n",
    "    # gradients and costs list\n",
    "    # for plotting learning curve\n",
    "    return params, grads, costs"
   ]
  },
  {
   "cell_type": "code",
   "execution_count": 128,
   "metadata": {},
   "outputs": [
    {
     "name": "stdout",
     "output_type": "stream",
     "text": [
      "w = [[0.1124579 ]\n",
      " [0.23106775]]\n",
      "b = 1.5593049248448891\n",
      "dw = [[0.90158428]\n",
      " [1.76250842]]\n",
      "db = 0.4304620716786828\n"
     ]
    }
   ],
   "source": [
    "params, grads, costs = optimize(w, b, X, Y, num_iterations= 100, learning_rate = 0.009, print_cost = False)\n",
    "\n",
    "print (\"w = \" + str(params[\"w\"]))\n",
    "print (\"b = \" + str(params[\"b\"]))\n",
    "print (\"dw = \" + str(grads[\"dw\"]))\n",
    "print (\"db = \" + str(grads[\"db\"]))"
   ]
  },
  {
   "cell_type": "code",
   "execution_count": 129,
   "metadata": {},
   "outputs": [],
   "source": [
    "def predict(w,b,X):\n",
    "    \n",
    "    # This will predict if based on data\n",
    "    # the label is 0 or 1\n",
    "    \n",
    "    # number of samples\n",
    "    m = X.shape[1]\n",
    "    \n",
    "    # Initializing predicted Y (y_hat) to zeros\n",
    "    y_hat = np.zeros((1,m))\n",
    "    \n",
    "    # Calculate vector \"A\" predicting the probabilities of being a 0 or 1\n",
    "\n",
    "    A = sigmoid(np.dot(w.T, X) + b)\n",
    "    \n",
    "    for i in range(A.shape[1]):\n",
    "        \n",
    "        # Convert probabilities A[0,i] to actual predictions p[0,i] using 0.5 threshold\n",
    "        \n",
    "        if A[0, i] > 0.5:\n",
    "            \n",
    "            y_hat[0, i] = 1\n",
    "            \n",
    "        else:\n",
    "            \n",
    "            y_hat[0, i] = 0\n",
    "    \n",
    "    # returns the prediction\n",
    "    return y_hat"
   ]
  },
  {
   "cell_type": "code",
   "execution_count": 130,
   "metadata": {},
   "outputs": [
    {
     "name": "stdout",
     "output_type": "stream",
     "text": [
      "predictions = [[1. 1.]]\n"
     ]
    }
   ],
   "source": [
    "print (\"predictions = \" + str(predict(w, b, X)))\n"
   ]
  },
  {
   "cell_type": "code",
   "execution_count": 131,
   "metadata": {},
   "outputs": [],
   "source": [
    "# THE OVERALL MODEL(EVERYTHING PUT TOGETHER)\n",
    "\n",
    "def model(X, Y, num_iterations = 2000, learning_rate = 0.5, print_cost = False):\n",
    "    \n",
    "    # initialize parameters with zeros (≈ 1 line of code)\n",
    "    w, b = initialize_with_zeros(X.shape[0])\n",
    "\n",
    "    # Gradient descent (≈ 1 line of code)\n",
    "    parameters, grads, costs = optimize(w, b, X, Y, num_iterations, learning_rate, print_cost)\n",
    "    \n",
    "    # Retrieve parameters w and b from dictionary \"parameters\"\n",
    "    w = parameters[\"w\"]\n",
    "    b = parameters[\"b\"]\n",
    "    \n",
    "    # Predict \n",
    "    Y_prediction = predict(w, b, X)\n",
    "\n",
    "    # Print Errors\n",
    "    print(\"train accuracy: {} %\".format(100 - np.mean(np.abs(Y_prediction - Y)) * 100))\n",
    "\n",
    "    \n",
    "    d = {\"costs\": costs,\n",
    "#          \"Y_prediction_test\": Y_prediction_test, \n",
    "         \"Y_prediction\" : Y_prediction, \n",
    "         \"w\" : w, \n",
    "         \"b\" : b,\n",
    "         \"learning_rate\" : learning_rate,\n",
    "         \"num_iterations\": num_iterations}\n",
    "    \n",
    "    # Returns the dictionary with all results\n",
    "    return d\n"
   ]
  },
  {
   "cell_type": "code",
   "execution_count": 132,
   "metadata": {},
   "outputs": [
    {
     "name": "stdout",
     "output_type": "stream",
     "text": [
      "Cost after iteration 0: 0.693147\n",
      "Cost after iteration 100: 1.307170\n",
      "Cost after iteration 200: 1.254056\n",
      "Cost after iteration 300: 1.203942\n",
      "Cost after iteration 400: 1.156650\n",
      "Cost after iteration 500: 1.112012\n",
      "Cost after iteration 600: 1.069866\n",
      "Cost after iteration 700: 1.030059\n",
      "Cost after iteration 800: 0.992447\n",
      "Cost after iteration 900: 0.956891\n",
      "Cost after iteration 1000: 0.923262\n",
      "Cost after iteration 1100: 0.891438\n",
      "Cost after iteration 1200: 0.861305\n",
      "Cost after iteration 1300: 0.832755\n",
      "Cost after iteration 1400: 0.805687\n",
      "Cost after iteration 1500: 0.780010\n",
      "Cost after iteration 1600: 0.755633\n",
      "Cost after iteration 1700: 0.732477\n",
      "Cost after iteration 1800: 0.710465\n",
      "Cost after iteration 1900: 0.689526\n",
      "train accuracy: 100.0 %\n"
     ]
    }
   ],
   "source": [
    "d = model(X, Y, num_iterations = 2000, learning_rate = 0.010, print_cost = True)"
   ]
  },
  {
   "cell_type": "code",
   "execution_count": 133,
   "metadata": {},
   "outputs": [
    {
     "data": {
      "image/png": "[encoded data removed]",
      "text/plain": [
       "<Figure size 432x288 with 1 Axes>"
      ]
     },
     "metadata": {
      "needs_background": "light"
     },
     "output_type": "display_data"
    }
   ],
   "source": [
    "# Plot learning curve (with costs)\n",
    "\n",
    "# costs is a list, convert to vector with\n",
    "# np.squeeze for plotting\n",
    "costs = np.squeeze(d['costs'])\n",
    "plt.plot(costs)\n",
    "plt.ylabel('cost')\n",
    "plt.xlabel('iterations (per hundreds)')\n",
    "plt.title(\"Learning rate =\" + str(d[\"learning_rate\"]))\n",
    "plt.show()"
   ]
  },
  {
   "cell_type": "code",
   "execution_count": null,
   "metadata": {},
   "outputs": [],
   "source": []
  }
 ],
 "metadata": {
  "kernelspec": {
   "display_name": "Python 3",
   "language": "python",
   "name": "python3"
  },
  "language_info": {
   "codemirror_mode": {
    "name": "ipython",
    "version": 3
   },
   "file_extension": ".py",
   "mimetype": "text/x-python",
   "name": "python",
   "nbconvert_exporter": "python",
   "pygments_lexer": "ipython3",
   "version": "3.7.3"
  }
 },
 "nbformat": 4,
 "nbformat_minor": 2
}
